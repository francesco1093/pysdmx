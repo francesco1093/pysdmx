{
 "cells": [
  {
   "cell_type": "code",
   "execution_count": 1,
   "metadata": {},
   "outputs": [
    {
     "data": {
      "text/plain": [
       "'C:\\\\Users\\\\franc\\\\Software Engineering Projects\\\\Contributions\\\\pysdmx'"
      ]
     },
     "execution_count": 1,
     "metadata": {},
     "output_type": "execute_result"
    }
   ],
   "source": [
    "import os\n",
    "os.chdir('..')\n",
    "os.getcwd()"
   ]
  },
  {
   "cell_type": "code",
   "execution_count": 2,
   "metadata": {},
   "outputs": [],
   "source": [
    "from pysdmx import get_codes, get_dimensions, get_dsd_identifier, get_flows, get_providers, get_timeseries, get_timeseries_table\n",
    "import matplotlib.pyplot as plt"
   ]
  },
  {
   "cell_type": "markdown",
   "metadata": {},
   "source": [
    "### Timeseries data"
   ]
  },
  {
   "cell_type": "code",
   "execution_count": 5,
   "metadata": {},
   "outputs": [
    {
     "name": "stdout",
     "output_type": "stream",
     "text": [
      "[1989     0.000000\n",
      "1990     0.000000\n",
      "1991     0.000000\n",
      "1992     0.000000\n",
      "1993     0.000000\n",
      "1995    30.299999\n",
      "1996    29.500000\n",
      "1997    10.500000\n",
      "1998    28.000000\n",
      "1999    27.200001\n",
      "2000    26.400000\n",
      "2001    26.400000\n",
      "2002    26.400000\n",
      "2003    26.400000\n",
      "2004    26.400000\n",
      "2005    26.400000\n",
      "2006    26.400000\n",
      "2007    26.400000\n",
      "2008    26.400000\n",
      "2009    26.400000\n",
      "2010    26.400000\n",
      "2011    26.400000\n",
      "2012    26.400000\n",
      "2013    26.400000\n",
      "2014    26.400000\n",
      "2015    26.400000\n",
      "2016    26.400000\n",
      "2017    26.000000\n",
      "2018    26.400000\n",
      "2019    26.400000\n",
      "2020    26.400000\n",
      "2021    26.400000\n",
      "Name: DF_WITS_Tariff_TRAINS.A.840.000.020110.Reported, dtype: float64]\n"
     ]
    }
   ],
   "source": [
    "ts = get_timeseries('WITS', dataflow='DF_WITS_Tariff_TRAINS', id='.840.000.020110.reported')\n",
    "print(ts)"
   ]
  },
  {
   "cell_type": "markdown",
   "metadata": {},
   "source": [
    "### Timeseries attributes"
   ]
  },
  {
   "cell_type": "code",
   "execution_count": 10,
   "metadata": {},
   "outputs": [
    {
     "name": "stdout",
     "output_type": "stream",
     "text": [
      "MIN_RATE: ['0', '0', '0', '0', '0', '30.2999992370605', '29.5', '1.20000004768372', '28', '27.2000007629395', '26.3999996185303', '26.3999996185303', '26.3999996185303', '26.3999996185303', '26.3999996185303', '26.3999996185303', '26.3999996185303', '26.3999996185303', '26.3999996185303', '26.3999996185303', '26.3999996185303', '26.3999996185303', '26.3999996185303', '26.3999996185303', '26.3999996185303', '26.3999996185303', '26.3999996185303', '26', '26.3999996185303', '26.3999996185303', '26.3999996185303', '26.3999996185303']\n",
      "\n",
      "MAX_RATE: ['0', '0', '0', '0', '0', '30.2999992370605', '29.5', '28.7999992370605', '28', '27.2000007629395', '26.3999996185303', '26.3999996185303', '26.3999996185303', '26.3999996185303', '26.3999996185303', '26.3999996185303', '26.3999996185303', '26.3999996185303', '26.3999996185303', '26.3999996185303', '26.3999996185303', '26.3999996185303', '26.3999996185303', '26.3999996185303', '26.3999996185303', '26.3999996185303', '26.3999996185303', '26', '26.3999996185303', '26.3999996185303', '26.3999996185303', '26.3999996185303']\n",
      "\n",
      "NBR_MFN_LINES: ['0', '0', '0', '0', '0', '1', '1', '3', '1', '1', '1', '1', '1', '1', '1', '1', '1', '1', '1', '1', '1', '1', '1', '1', '1', '1', '1', '1', '1', '1', '1', '1']\n",
      "\n",
      "NBR_NA_LINES: ['1', '1', '1', '1', '1', '2', '2', '0', '2', '2', '2', '2', '2', '2', '2', '2', '2', '1', '2', '2', '2', '2', '2', '2', '2', '2', '2', '2', '2', '2', '2', '2']\n",
      "\n",
      "TOTALNOOFLINES: ['1', '1', '1', '1', '1', '3', '3', '3', '3', '3', '3', '3', '3', '3', '3', '3', '3', '2', '3', '3', '3', '3', '3', '3', '3', '3', '3', '3', '3', '3', '3', '3']\n",
      "\n",
      "NBR_PREF_LINES: ['0', '0', '0', '0', '0', '0', '0', '0', '0', '0', '0', '0', '0', '0', '0', '0', '0', '0', '0', '0', '0', '0', '0', '0', '0', '0', '0', '0', '0', '0', '0', '0']\n",
      "\n",
      "OBS_VALUE_MEASURE: ['SimpleAverage', 'SimpleAverage', 'SimpleAverage', 'SimpleAverage', 'SimpleAverage', 'SimpleAverage', 'SimpleAverage', 'SimpleAverage', 'SimpleAverage', 'SimpleAverage', 'SimpleAverage', 'SimpleAverage', 'SimpleAverage', 'SimpleAverage', 'SimpleAverage', 'SimpleAverage', 'SimpleAverage', 'SimpleAverage', 'SimpleAverage', 'SimpleAverage', 'SimpleAverage', 'SimpleAverage', 'SimpleAverage', 'SimpleAverage', 'SimpleAverage', 'SimpleAverage', 'SimpleAverage', 'SimpleAverage', 'SimpleAverage', 'SimpleAverage', 'SimpleAverage', 'SimpleAverage']\n",
      "\n",
      "action: ['Information', 'Information', 'Information', 'Information', 'Information', 'Information', 'Information', 'Information', 'Information', 'Information', 'Information', 'Information', 'Information', 'Information', 'Information', 'Information', 'Information', 'Information', 'Information', 'Information', 'Information', 'Information', 'Information', 'Information', 'Information', 'Information', 'Information', 'Information', 'Information', 'Information', 'Information', 'Information']\n",
      "\n",
      "TARIFFTYPE: ['MFN', 'MFN', 'MFN', 'MFN', 'MFN', 'MFN', 'MFN', 'MFN', 'MFN', 'MFN', 'MFN', 'MFN', 'MFN', 'MFN', 'MFN', 'MFN', 'MFN', 'MFN', 'MFN', 'MFN', 'MFN', 'MFN', 'MFN', 'MFN', 'MFN', 'MFN', 'MFN', 'MFN', 'MFN', 'MFN', 'MFN', 'MFN']\n",
      "\n",
      "SUM_OF_RATES: ['0', '0', '0', '0', '0', '30.2999992370605', '29.5', '31.5', '28', '27.2000007629395', '26.3999996185303', '26.3999996185303', '26.3999996185303', '26.3999996185303', '26.3999996185303', '26.3999996185303', '26.3999996185303', '26.3999996185303', '26.3999996185303', '26.3999996185303', '26.3999996185303', '26.3999996185303', '26.3999996185303', '26.3999996185303', '26.3999996185303', '26.3999996185303', '26.3999996185303', '26', '26.3999996185303', '26.3999996185303', '26.3999996185303', '26.3999996185303']\n",
      "\n",
      "NOMENCODE: ['H0', 'H0', 'H0', 'H0', 'H0', 'H0', 'H1', 'H1', 'H1', 'H1', 'H1', 'H1', 'H2', 'H2', 'H2', 'H2', 'H2', 'H3', 'H3', 'H3', 'H3', 'H3', 'H4', 'H4', 'H4', 'H4', 'H4', 'H5', 'H5', 'H5', 'H5', 'H5']\n",
      "\n",
      "FREQ: A\n",
      "\n",
      "REPORTER: 840\n",
      "\n",
      "PARTNER: 000\n",
      "\n",
      "PRODUCTCODE: 020110\n",
      "\n",
      "DATATYPE: Reported\n",
      "\n",
      "CONNECTORS_AUTONAME: WBG_WITS,DF_WITS_Tariff_TRAINS,1.1 ; WITS - UNCTAD TRAINS Tariff Data, A(Annual), 840(United States), 000(World), 020110(- Carcasses and half-carcasses), Reported(Reported Tariff (Not estimated))\n",
      "\n",
      "ID: DF_WITS_Tariff_TRAINS.A.840.000.020110.Reported\n",
      "\n",
      "IS_NUMERIC: True\n",
      "\n",
      "IS_ERROR: False\n",
      "\n"
     ]
    }
   ],
   "source": [
    "for k, v in ts[0].attrs.items():\n",
    "    print(f\"{k}: {v}\")\n",
    "    print()"
   ]
  },
  {
   "cell_type": "code",
   "execution_count": null,
   "metadata": {},
   "outputs": [],
   "source": [
    "def print_list(ls):\n",
    "    for l in ls:\n",
    "        print(l)\n",
    "\n",
    "def print_dict(d):\n",
    "    for k, v in d.items():\n",
    "        print(k, ': ', v)\n",
    "        \n",
    "def select_over(dim):\n",
    "    print('Dimension: ', dim)\n",
    "    codes = get_codes(provider, dataflow, dim.id)\n",
    "    print_dict(codes)\n",
    "    selection = None\n",
    "    while selection not in codes.keys() or selection is None:\n",
    "        selection = input(f'Insert <{dim.full_identifier}>: ')\n",
    "        print(selection)\n",
    "    return selection, (dim.id, codes[selection])\n",
    "\n"
   ]
  },
  {
   "cell_type": "code",
   "execution_count": null,
   "metadata": {},
   "outputs": [],
   "source": [
    "print_dict(get_providers())\n",
    "provider = input(\"\\nChoose provider : \")\n",
    "\n",
    "print_dict(get_flows(provider))\n",
    "dataflow = input(\"\\nChoose dataflow : \")\n",
    "\n",
    "print(get_dsd_identifier(provider, dataflow))"
   ]
  },
  {
   "cell_type": "code",
   "execution_count": null,
   "metadata": {},
   "outputs": [],
   "source": [
    "final_selection = [select_over(dim) for dim in get_dimensions(provider, dataflow)]\n",
    "\n",
    "id = '.'.join([a for a, _ in final_selection])\n",
    "sels = '\\n'.join([a + ': ' + b for _, (a, b) in final_selection])\n",
    "print(id)\n",
    "print(sels)\n",
    "input(\"\\nType  <Return>\\t to continue : \")\n",
    "\n",
    "ans=get_timeseries(provider, dataflow=dataflow, id=id)\n",
    "ts = ans[0].timeseries\n",
    "print(ts)\n",
    "\n",
    "plt.plot(range(len(ts)), ts)\n",
    "plt.xticks(range(len(ts)), ts.index, size='small', rotation=45)\n",
    "plt.show()"
   ]
  },
  {
   "cell_type": "code",
   "execution_count": null,
   "metadata": {},
   "outputs": [],
   "source": []
  }
 ],
 "metadata": {
  "kernelspec": {
   "display_name": "Python 3 (ipykernel)",
   "language": "python",
   "name": "python3"
  },
  "language_info": {
   "codemirror_mode": {
    "name": "ipython",
    "version": 3
   },
   "file_extension": ".py",
   "mimetype": "text/x-python",
   "name": "python",
   "nbconvert_exporter": "python",
   "pygments_lexer": "ipython3",
   "version": "3.10.8"
  },
  "vscode": {
   "interpreter": {
    "hash": "c097390608297fe1f90a5ef0666f8b3aa1d84af2184eb13ed1c045fd4b70defa"
   }
  }
 },
 "nbformat": 4,
 "nbformat_minor": 4
}
